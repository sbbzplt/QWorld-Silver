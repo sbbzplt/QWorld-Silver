{
  "cells": [
    {
      "cell_type": "markdown",
      "metadata": {
        "id": "view-in-github",
        "colab_type": "text"
      },
      "source": [
        "<a href=\"https://colab.research.google.com/github/sbbzplt/QWorld-Silver/blob/master/silver/D04_Order_Finding_Algorithm_Solutions.ipynb\" target=\"_parent\"><img src=\"https://colab.research.google.com/assets/colab-badge.svg\" alt=\"Open In Colab\"/></a>"
      ]
    },
    {
      "cell_type": "markdown",
      "metadata": {
        "id": "nsqQlpmDVZjD"
      },
      "source": [
        "<table  align=\"left\" width=\"100%\"> <tr>\n",
        "        <td  style=\"background-color:#ffffff;\"><a href=\"https://qsoftware.lu.lv/index.php/qworld/\" target=\"_blank\"><img src=\"https://github.com/sbbzplt/QWorld-Silver/blob/master/images/qworld.jpg?raw=1\" width=\"35%\" align=\"left\"></a></td>\n",
        "        <td  align=\"right\" style=\"background-color:#ffffff;vertical-align:bottom;horizontal-align:right\">\n",
        "            prepared by Özlem Salehi (<a href=\"http://qworld.lu.lv/index.php/qturkey/\" target=\"_blank\">QTurkey</a>)\n",
        "        </td>        \n",
        "</tr></table>"
      ]
    },
    {
      "cell_type": "markdown",
      "metadata": {
        "id": "hbWh-s0HVZjF"
      },
      "source": [
        "<table width=\"100%\"><tr><td style=\"color:#bbbbbb;background-color:#ffffff;font-size:11px;font-style:italic;text-align:right;\">This cell contains some macros. If there is a problem with displaying mathematical formulas, please run this cell to load these macros. </td></tr></table>\n",
        "$\\newcommand{\\Mod}[1]{\\ (\\mathrm{mod}\\ #1)}$\n",
        "$ \\newcommand{\\bra}[1]{\\langle #1|} $\n",
        "$ \\newcommand{\\ket}[1]{|#1\\rangle} $\n",
        "$ \\newcommand{\\braket}[2]{\\langle #1|#2\\rangle} $\n",
        "$ \\newcommand{\\dot}[2]{ #1 \\cdot #2} $\n",
        "$ \\newcommand{\\biginner}[2]{\\left\\langle #1,#2\\right\\rangle} $\n",
        "$ \\newcommand{\\mymatrix}[2]{\\left( \\begin{array}{#1} #2\\end{array} \\right)} $\n",
        "$ \\newcommand{\\myvector}[1]{\\mymatrix{c}{#1}} $\n",
        "$ \\newcommand{\\myrvector}[1]{\\mymatrix{r}{#1}} $\n",
        "$ \\newcommand{\\mypar}[1]{\\left( #1 \\right)} $\n",
        "$ \\newcommand{\\mybigpar}[1]{ \\Big( #1 \\Big)} $\n",
        "$ \\newcommand{\\sqrttwo}{\\frac{1}{\\sqrt{2}}} $\n",
        "$ \\newcommand{\\dsqrttwo}{\\dfrac{1}{\\sqrt{2}}} $\n",
        "$ \\newcommand{\\onehalf}{\\frac{1}{2}} $\n",
        "$ \\newcommand{\\donehalf}{\\dfrac{1}{2}} $\n",
        "$ \\newcommand{\\hadamard}{ \\mymatrix{rr}{ \\sqrttwo & \\sqrttwo \\\\ \\sqrttwo & -\\sqrttwo }} $\n",
        "$ \\newcommand{\\vzero}{\\myvector{1\\\\0}} $\n",
        "$ \\newcommand{\\vone}{\\myvector{0\\\\1}} $\n",
        "$ \\newcommand{\\stateplus}{\\myvector{ \\sqrttwo \\\\  \\sqrttwo } } $\n",
        "$ \\newcommand{\\stateminus}{ \\myrvector{ \\sqrttwo \\\\ -\\sqrttwo } } $\n",
        "$ \\newcommand{\\myarray}[2]{ \\begin{array}{#1}#2\\end{array}} $\n",
        "$ \\newcommand{\\X}{ \\mymatrix{cc}{0 & 1 \\\\ 1 & 0}  } $\n",
        "$ \\newcommand{\\Z}{ \\mymatrix{rr}{1 & 0 \\\\ 0 & -1}  } $\n",
        "$ \\newcommand{\\Htwo}{ \\mymatrix{rrrr}{ \\frac{1}{2} & \\frac{1}{2} & \\frac{1}{2} & \\frac{1}{2} \\\\ \\frac{1}{2} & -\\frac{1}{2} & \\frac{1}{2} & -\\frac{1}{2} \\\\ \\frac{1}{2} & \\frac{1}{2} & -\\frac{1}{2} & -\\frac{1}{2} \\\\ \\frac{1}{2} & -\\frac{1}{2} & -\\frac{1}{2} & \\frac{1}{2} } } $\n",
        "$ \\newcommand{\\CNOT}{ \\mymatrix{cccc}{1 & 0 & 0 & 0 \\\\ 0 & 1 & 0 & 0 \\\\ 0 & 0 & 0 & 1 \\\\ 0 & 0 & 1 & 0} } $\n",
        "$ \\newcommand{\\norm}[1]{ \\left\\lVert #1 \\right\\rVert } $\n",
        "$ \\newcommand{\\pstate}[1]{ \\lceil \\mspace{-1mu} #1 \\mspace{-1.5mu} \\rfloor } $"
      ]
    },
    {
      "cell_type": "code",
      "source": [
        "try:\n",
        "    import cirq\n",
        "except:\n",
        "    print(\"Cirq is being installed...\")\n",
        "    !pip install -q -U cirq\n",
        "    import cirq\n",
        "finally:\n",
        "    print(\"Cirq is imported.\")\n",
        "!wget -q https://raw.githubusercontent.com/sbbzplt/QWorld-Silver/refs/heads/master/silver/operator.py\n",
        "!wget -q https://gitlab.com/qworld/silver/-/raw/master/include/helpers.py\n"
      ],
      "metadata": {
        "id": "aJV43oyuVi9z",
        "colab": {
          "base_uri": "https://localhost:8080/"
        },
        "outputId": "f46b3db8-540d-4ee7-fff8-956b8beff63f"
      },
      "execution_count": 1,
      "outputs": [
        {
          "output_type": "stream",
          "name": "stdout",
          "text": [
            "Cirq is being installed...\n",
            "\u001b[2K   \u001b[90m━━━━━━━━━━━━━━━━━━━━━━━━━━━━━━━━━━━━━━━━\u001b[0m \u001b[32m2.0/2.0 MB\u001b[0m \u001b[31m39.5 MB/s\u001b[0m eta \u001b[36m0:00:00\u001b[0m\n",
            "\u001b[2K   \u001b[90m━━━━━━━━━━━━━━━━━━━━━━━━━━━━━━━━━━━━━━━━\u001b[0m \u001b[32m670.8/670.8 kB\u001b[0m \u001b[31m30.4 MB/s\u001b[0m eta \u001b[36m0:00:00\u001b[0m\n",
            "\u001b[2K   \u001b[90m━━━━━━━━━━━━━━━━━━━━━━━━━━━━━━━━━━━━━━━━\u001b[0m \u001b[32m73.5/73.5 kB\u001b[0m \u001b[31m6.2 MB/s\u001b[0m eta \u001b[36m0:00:00\u001b[0m\n",
            "\u001b[2K   \u001b[90m━━━━━━━━━━━━━━━━━━━━━━━━━━━━━━━━━━━━━━━━\u001b[0m \u001b[32m430.5/430.5 kB\u001b[0m \u001b[31m22.2 MB/s\u001b[0m eta \u001b[36m0:00:00\u001b[0m\n",
            "\u001b[2K   \u001b[90m━━━━━━━━━━━━━━━━━━━━━━━━━━━━━━━━━━━━━━━━\u001b[0m \u001b[32m2.8/2.8 MB\u001b[0m \u001b[31m43.1 MB/s\u001b[0m eta \u001b[36m0:00:00\u001b[0m\n",
            "\u001b[?25hCirq is imported.\n"
          ]
        }
      ]
    },
    {
      "cell_type": "markdown",
      "metadata": {
        "id": "kHzhCzDKVZjG"
      },
      "source": [
        "<h1> <font color=\"blue\"> Solutions for </font> Order Finding Algorithm</h1>"
      ]
    },
    {
      "cell_type": "markdown",
      "metadata": {
        "id": "AKjymLy3VZjH"
      },
      "source": [
        "<a id=\"task1\"></a>\n",
        "<h3>Task 1</h3>\n",
        "\n",
        "Let $x=5$ and $N=21$. Plot $x^ i \\Mod{N}$ for $i$ values between $1$ and $50$ and find the order of $x$."
      ]
    },
    {
      "cell_type": "markdown",
      "metadata": {
        "id": "v8tR9SqCVZjH"
      },
      "source": [
        "<h3>Solution</h3>"
      ]
    },
    {
      "cell_type": "code",
      "execution_count": null,
      "metadata": {
        "scrolled": true,
        "id": "INd1CVNXVZjI"
      },
      "outputs": [],
      "source": [
        "import matplotlib.pyplot as plt\n",
        "#Create an empty list\n",
        "l = []\n",
        "x=5\n",
        "N=21\n",
        "\n",
        "#Append x^i mod N values\n",
        "for i in range (50):\n",
        "    l.append((x**i) % N)\n",
        "\n",
        "\n",
        "plt.plot(l)\n",
        "plt.show()"
      ]
    },
    {
      "cell_type": "markdown",
      "metadata": {
        "id": "aZ3bbYTSVZjJ"
      },
      "source": [
        "Let's check each integer and stop when we find an integer $r$ satisfying $x^r = 1 \\Mod{N}$\n",
        "\n",
        "$ 5^1 = 5 ~\\mod 21 $\n",
        "\n",
        "$ 5^2 = 4 ~\\mod 21  $\n",
        "\n",
        "$ 5^3 = 20 \\mod 21 $\n",
        "\n",
        "$ 5^4 = 16 \\mod 21 $\n",
        "\n",
        "$ 5^5 = 17 \\mod 21 $\n",
        "\n",
        "$ 5^6 = 1 ~\\mod 21  $\n",
        "\n",
        "Hence the order $r$ is equal to 6."
      ]
    },
    {
      "cell_type": "markdown",
      "metadata": {
        "id": "7kracCBaVZjK"
      },
      "source": [
        "<a id=\"task2\"></a>\n",
        "<h3>Task 2 (on paper)</h3>\n",
        "\n",
        "Let $\\ket{\\psi_0}=\\ket{1 \\Mod{N}}+\\ket{x\\Mod{N}}+\\ket{x^2\\Mod{N}}+ \\cdots + \\ket{x^{r-1}\\Mod{N}}$.\n",
        "\n",
        "What is $U_x \\ket{\\psi_0}$? What can you conclude about $\\ket{\\psi_0}$?\n",
        "\n",
        "Repeat the same task for $\\ket{\\psi_1}=\\ket{1 \\Mod{N}}+ \\omega^{-1}\\ket{x\\Mod{N}}+\\omega^{-2}\\ket{x^2\\Mod{N}}+ \\cdots + \\omega^{-(r-1)}  \\ket{x^{r-1}\\Mod{N}}$ where $\\omega=e^{-\\frac{2{\\pi}i}{r}}$."
      ]
    },
    {
      "cell_type": "markdown",
      "metadata": {
        "id": "BwnZ3IrwVZjK"
      },
      "source": [
        "<h3>Solution</h3>"
      ]
    },
    {
      "cell_type": "markdown",
      "metadata": {
        "id": "Nq5Zhib2VZjL"
      },
      "source": [
        "\\begin{align*}\n",
        "U_x\\ket{\\psi_0} &= U_x\\ket{1 \\Mod{N}} + U_x \\ket{x \\Mod{N}}+ \\dots + U_x \\ket{x^{r-1} \\Mod{N}}\\\\\n",
        "&= \\ket{x \\Mod{N}} + \\ket{x^2\\Mod{N}}+ \\dots + \\ket{1\\Mod{N}} \\\\\n",
        "&= \\ket{\\psi_0}\n",
        "\\end{align*}\n",
        "\n",
        "Hence we can conclude that $\\ket{\\psi_0}$ is an eigenvector of the operator $U_x$ with eigenvalue 1."
      ]
    },
    {
      "cell_type": "markdown",
      "metadata": {
        "id": "-304YswjVZjM"
      },
      "source": [
        "Let's repeat the same for $\\ket{\\psi_1}$.\n",
        "\n",
        "\\begin{align*}\n",
        "U_x\\ket{\\psi_1} &= U_x\\ket{1 \\Mod{N}} + \\omega^{-1}U_x  \\ket{x \\Mod{N}}+ \\dots +\\omega^{-(r-1)} U_x \\ket{x^{r-1} \\Mod{N}}\\\\\n",
        "&= \\ket{x \\Mod{N}} + \\omega^{-1}\\ket{x^2 \\Mod{N}}+ \\dots + \\omega^{-(r-1)}\\ket{1 \\Mod{N}} \\\\\n",
        "&= \\omega( \\omega^{-1}\\ket{x \\Mod{N}} + \\omega^{-2}\\ket{x^2 \\Mod{N}}+ \\dots + \\omega^{-(r)}\\ket{1 \\Mod{N}}) \\\\\n",
        "&= \\omega\\ket{\\psi_1}\n",
        "\\end{align*}\n",
        "\n",
        "Hence, $\\ket{\\psi_1}$ is an eigenvector of the operator $U_x$ with an eigenvalue $\\omega$."
      ]
    },
    {
      "cell_type": "markdown",
      "metadata": {
        "id": "ZPSDxZR6VZjM"
      },
      "source": [
        "<a id=\"task3\"></a>\n",
        "<h3>Task 3 (on paper)</h3>\n",
        "\n",
        "Show that $\\displaystyle \\frac{1}{\\sqrt{r}}\\sum_{s=0}^{r-1}\\ket{u_s}= \\ket{1}$."
      ]
    },
    {
      "cell_type": "markdown",
      "metadata": {
        "id": "uUJ3OG6lVZjM"
      },
      "source": [
        "<h3>Solution</h3>"
      ]
    },
    {
      "cell_type": "markdown",
      "metadata": {
        "id": "qJ2dIWFYVZjN"
      },
      "source": [
        "Let's replace $\\ket{u_s}$ in the sum above. We have the following expression:\n",
        "\n",
        "$ \\displaystyle \\frac{1}{\\sqrt{r}}\\sum_{s=0}^{r-1}\\ket{u_s}= \\frac{1}{\\sqrt{r}}\\sum_{s=0}^{r-1}\\frac{1}{\\sqrt{r}}\\sum_{k=0}^{r-1}e^{\\frac{-2{\\pi}i s k}{r}}\\ket{{x^k} \\Mod{N}}$"
      ]
    },
    {
      "cell_type": "markdown",
      "metadata": {
        "id": "QZ1PX7gRVZjN"
      },
      "source": [
        "If $ k=0 $, $ \\displaystyle \\sum_{s=0}^{r-1}e^{\\frac{-2{\\pi}i s k}{r}} = r $ and the state $ \\ket{1} $ has amplitude 1 in which case for all other $ k $, all amplitudes are equal to 0. Hence $ \\displaystyle \\frac{1}{\\sqrt{r}}\\sum_{s=0}^{r-1}\\ket{u_s}=\\ket{1}.$\n"
      ]
    },
    {
      "cell_type": "markdown",
      "metadata": {
        "id": "rRP4VwH5VZjO"
      },
      "source": [
        "<a id=\"task4\"></a>\n",
        "\n",
        "<h3>Task 4</h3>\n",
        "\n",
        "Find the continued fractions expression for $\\frac{31}{13}$ and find the convergents first using pen and paper and then using the functions defined above."
      ]
    },
    {
      "cell_type": "markdown",
      "metadata": {
        "id": "XB6zYJtcVZjO"
      },
      "source": [
        "<h3>Solution</h3>"
      ]
    },
    {
      "cell_type": "markdown",
      "metadata": {
        "id": "y42-SZG1VZjO"
      },
      "source": [
        "$\\frac{31}{13}$  can be expressed as $\\frac{31}{13}=2+\\frac{5}{13}$. Continuing like this,\n",
        "\n",
        "\\begin{align*}\n",
        "\t\t=2+\\frac{1}{2+\\frac{3}{5}} = 2+\\frac{1}{2+\\frac{1}{\\frac{5}{3}}}\n",
        "\t\t\\end{align*}\n",
        "        \n",
        "        "
      ]
    },
    {
      "cell_type": "markdown",
      "metadata": {
        "id": "Vmr7aSPCVZjP"
      },
      "source": [
        "The resulting expression will be\n",
        "\n",
        "\\begin{align*}\n",
        "2+\\frac{1}{2+\\frac{1}{1 + \\frac{1}{1+ \\frac{1}{2}}}}\n",
        "\\end{align*}\n",
        "\n",
        "with the continued fraction expression $[2,2,1,1,2]$.\n"
      ]
    },
    {
      "cell_type": "markdown",
      "metadata": {
        "id": "b38WxihwVZjP"
      },
      "source": [
        "The convergents are $c_1=2$, $c_2=2 + \\frac{1}{2} = \\frac{5}{2} $, $c_3 = 2 + \\frac{1}{2 + \\frac{1}{1}} = \\frac{7}{3}$, $c_4 = 2+ \\frac{ 1}{2 + \\frac{1}{1 + \\frac{1}{1}}} = \\frac{12}{5}$, $c_5 = 2+\\frac{1}{2+\\frac{1}{1 + \\frac{1}{1+ \\frac{1}{2}}}}\n",
        " = \\frac{31}{13}$"
      ]
    },
    {
      "cell_type": "markdown",
      "metadata": {
        "id": "EXHOSlZ5VZjP"
      },
      "source": [
        "Let's find the continued fractions expression and convergents for $\\frac{31}{13}$ using the functions defined in the notebook."
      ]
    },
    {
      "cell_type": "code",
      "execution_count": 2,
      "metadata": {
        "scrolled": true,
        "id": "djNJj6pcVZjP"
      },
      "outputs": [],
      "source": [
        "%run helpers.py"
      ]
    },
    {
      "cell_type": "code",
      "execution_count": 3,
      "metadata": {
        "scrolled": true,
        "id": "UPrv2C7WVZjQ",
        "colab": {
          "base_uri": "https://localhost:8080/"
        },
        "outputId": "96fe7e2e-ff91-4511-bec3-fe93837b44bf"
      },
      "outputs": [
        {
          "output_type": "stream",
          "name": "stdout",
          "text": [
            "[2, 2, 1, 1, 2]\n",
            "[Fraction(2, 1), Fraction(5, 2), Fraction(7, 3), Fraction(12, 5), Fraction(31, 13)]\n"
          ]
        }
      ],
      "source": [
        "cf=contFrac(31/13)\n",
        "print(cf)\n",
        "cv=convergents(cf)\n",
        "print(cv)"
      ]
    },
    {
      "cell_type": "markdown",
      "metadata": {
        "id": "T8QQ_HJKVZjQ"
      },
      "source": [
        "<a id=\"task5\"></a>\n",
        "\n",
        "<h3>Task 5</h3>\n",
        "\n",
        "You are given a function named $U_x$ which implements $ U_x \\ket{y} \\rightarrow \\ket{xy {\\Mod{N}}}$ and returns its controlled version. Run the following cell to load the function."
      ]
    },
    {
      "cell_type": "code",
      "execution_count": 4,
      "metadata": {
        "scrolled": true,
        "id": "acvWKR_vVZjQ"
      },
      "outputs": [],
      "source": [
        "%run operator.py"
      ]
    },
    {
      "cell_type": "markdown",
      "metadata": {
        "id": "yJI6S110VZjQ"
      },
      "source": [
        "In order to use the function you should pass $x$ and $N$ as parameter.\n",
        "\n",
        "<pre>CU=Ux(x,N)</pre>"
      ]
    },
    {
      "cell_type": "markdown",
      "metadata": {
        "id": "g3lAZM7PVZjR"
      },
      "source": [
        "Let $x=3$ and $N=20$. Use phase estimation procedure to find the estimates for $\\frac{s}{r}$. Pick the correct values for $t$ and $L$. You can use the <i>qpe</i> function you have already implemented. Plot your results using a histogram. Where do the peaks occur?"
      ]
    },
    {
      "cell_type": "markdown",
      "metadata": {
        "id": "71Srv3JGVZjR"
      },
      "source": [
        "<h3>Solution</h3>"
      ]
    },
    {
      "cell_type": "code",
      "execution_count": 5,
      "metadata": {
        "scrolled": true,
        "id": "MTRnEms9VZjS"
      },
      "outputs": [],
      "source": [
        "# %load qpe.py\n",
        "import cirq\n",
        "def qpe(t,control, target, circuit, CU):\n",
        "\n",
        "    #Apply Hadamard to control qubits\n",
        "    circuit.append(cirq.H.on_each(control))\n",
        "\n",
        "    #Apply CU gates\n",
        "    for i in range(t):\n",
        "        #Obtain the power of CU gate\n",
        "        CUi = CU**(2**i)\n",
        "        #Apply CUi gate where t-i-1 is the control\n",
        "        circuit.append(CUi(control[t-i-1],*target))\n",
        "\n",
        "    #Apply inverse QFT\n",
        "    iqft(t,control,circuit)\n"
      ]
    },
    {
      "cell_type": "code",
      "execution_count": 6,
      "metadata": {
        "scrolled": true,
        "id": "ur9cqp4nVZjS"
      },
      "outputs": [],
      "source": [
        "# %load iqft.py\n",
        "import cirq\n",
        "from cirq.circuits import InsertStrategy\n",
        "from cirq import H, SWAP, CZPowGate\n",
        "\n",
        "def iqft(n,qubits,circuit):\n",
        "\n",
        "    #Swap the qubits\n",
        "    for i in range(n//2):\n",
        "        circuit.append(SWAP(qubits[i],qubits[n-i-1]), strategy = InsertStrategy.NEW)\n",
        "\n",
        "    #For each qubit\n",
        "    for i in range(n-1,-1,-1):\n",
        "        #Apply CR_k gates where j is the control and i is the target\n",
        "        k=n-i #We start with k=n-i\n",
        "        for j in range(n-1,i,-1):\n",
        "            #Define and apply CR_k gate\n",
        "            crk = CZPowGate(exponent = -2/2**(k))\n",
        "            circuit.append(crk(qubits[j],qubits[i]),strategy = InsertStrategy.NEW)\n",
        "            k=k-1 #Decrement at each step\n",
        "\n",
        "        #Apply Hadamard to the qubit\n",
        "        circuit.append(H(qubits[i]),strategy = InsertStrategy.NEW)\n"
      ]
    },
    {
      "cell_type": "markdown",
      "metadata": {
        "id": "WWkhjhqDVZjT"
      },
      "source": [
        "$t$ should be picked as $2L + 1 + \\big \\lceil \\log \\big( 2 + \\frac{1}{2\\epsilon} \\big) \\big \\rceil$. Let $\\epsilon=0.1$. First let's find $L$."
      ]
    },
    {
      "cell_type": "code",
      "execution_count": null,
      "metadata": {
        "scrolled": true,
        "id": "qoq5yYsGVZjU",
        "outputId": "bff3b769-6932-46ac-9b59-38831f7bae58"
      },
      "outputs": [
        {
          "name": "stdout",
          "output_type": "stream",
          "text": [
            "5\n"
          ]
        }
      ],
      "source": [
        "import math\n",
        "L=math.ceil(math.log2(20))\n",
        "print(L)"
      ]
    },
    {
      "cell_type": "markdown",
      "metadata": {
        "id": "MBxJR7PAVZjV"
      },
      "source": [
        "$ L= \\big \\lceil  \\log N \\big \\rceil $ = $\\big \\lceil  \\log 20 \\big \\rceil =5.$"
      ]
    },
    {
      "cell_type": "code",
      "execution_count": null,
      "metadata": {
        "scrolled": true,
        "id": "7Z5GfaEAVZjW",
        "outputId": "f62e3c83-325d-4aed-e44e-321158418617"
      },
      "outputs": [
        {
          "name": "stdout",
          "output_type": "stream",
          "text": [
            "14\n"
          ]
        }
      ],
      "source": [
        "e = 0.1\n",
        "num_t = 2*L+1+math.ceil(math.log2(2+1/(2*e)))\n",
        "print(num_t)"
      ]
    },
    {
      "cell_type": "code",
      "execution_count": null,
      "metadata": {
        "scrolled": true,
        "id": "9EDHdcP_VZjX",
        "outputId": "29e2a96d-6f6b-448e-fc53-537be922b20f"
      },
      "outputs": [
        {
          "name": "stdout",
          "output_type": "stream",
          "text": [
            "Sample the circuit:\n",
            "Counter({0: 259, 12288: 250, 4096: 248, 8192: 243})\n"
          ]
        }
      ],
      "source": [
        "import cirq\n",
        "import matplotlib\n",
        "\n",
        "#Create a circuit\n",
        "circuit = cirq.Circuit()\n",
        "\n",
        "#Assign the size of the registers\n",
        "t=num_t\n",
        "n=L\n",
        "\n",
        "#Create control and target qubits\n",
        "control = [cirq.LineQubit(i) for i in range(1,t+1) ]\n",
        "target = [cirq.LineQubit(i) for i in range(t+1,t+1+n) ]\n",
        "circuit.append(cirq.X(target[n-1]))\n",
        "\n",
        "#Create operator CU\n",
        "x=3\n",
        "N=20\n",
        "CU=Ux(x,N)\n",
        "\n",
        "#Call phase estimation circuit\n",
        "qpe(t,control, target, circuit, CU)\n",
        "\n",
        "#Measure the control register\n",
        "circuit.append(cirq.measure(*control, key='result'))\n",
        "\n",
        "#Sample the circuit\n",
        "s=cirq.Simulator()\n",
        "print('Sample the circuit:')\n",
        "samples=s.run(circuit, repetitions=1000)\n",
        "\n",
        "# Print a histogram of results\n",
        "results= samples.histogram(key='result')\n",
        "print(results)"
      ]
    },
    {
      "cell_type": "code",
      "execution_count": null,
      "metadata": {
        "scrolled": true,
        "id": "lf_hCBf0VZjX",
        "outputId": "7d248be6-4bbc-4f36-b209-d5800c9ad260"
      },
      "outputs": [
        {
          "data": {
            "image/png": "[encoded data removed]",
            "text/plain": [
              "<Figure size 432x288 with 1 Axes>"
            ]
          },
          "metadata": {
            "needs_background": "light"
          },
          "output_type": "display_data"
        }
      ],
      "source": [
        "import matplotlib.pyplot as plt\n",
        "\n",
        "plt.bar([str(key) for key in results.keys()], results.values())\n",
        "plt.show()"
      ]
    },
    {
      "cell_type": "markdown",
      "metadata": {
        "id": "AYjbFfNRVZjZ"
      },
      "source": [
        "<a id=\"task6\"></a>\n",
        "<h3>Task 6</h3>\n",
        "\n",
        "For each one of the possible outcomes in Task 5, try to find out the value of $r$ using continued fractions algorithm. You can use the functions defined above."
      ]
    },
    {
      "cell_type": "markdown",
      "metadata": {
        "id": "i2eTaaUwVZjZ"
      },
      "source": [
        "<h3>Solution</h3>"
      ]
    },
    {
      "cell_type": "markdown",
      "metadata": {
        "id": "K0FoQBWmVZjZ"
      },
      "source": [
        "The outcomes are 0, 4096, 8192 and 12288."
      ]
    },
    {
      "cell_type": "markdown",
      "metadata": {
        "id": "J1t19Kx0VZjg"
      },
      "source": [
        "- From 0, we don't get any meaningful result.\n",
        "\n",
        "- Let's check $\\frac{4096}{2^{14}}$."
      ]
    },
    {
      "cell_type": "code",
      "execution_count": 7,
      "metadata": {
        "id": "CJ9FoHvgVZji"
      },
      "outputs": [],
      "source": [
        "%run helpers.py"
      ]
    },
    {
      "cell_type": "code",
      "execution_count": null,
      "metadata": {
        "scrolled": true,
        "id": "OLk0XaI9VZji"
      },
      "outputs": [],
      "source": [
        "cf = contFrac(4096/2**14)\n",
        "cv = convergents(cf)\n",
        "print(cv)"
      ]
    },
    {
      "cell_type": "markdown",
      "metadata": {
        "id": "WgNy_GfYVZji"
      },
      "source": [
        "The candidate is $s'=1$ and $r'=4$. Indeed 4 is the answer. Let's check the other cases as well."
      ]
    },
    {
      "cell_type": "code",
      "execution_count": 8,
      "metadata": {
        "scrolled": true,
        "id": "JzrBVpa5VZjj",
        "colab": {
          "base_uri": "https://localhost:8080/"
        },
        "outputId": "ab1fc611-2122-4a83-d920-ccc3788cd354"
      },
      "outputs": [
        {
          "output_type": "stream",
          "name": "stdout",
          "text": [
            "[Fraction(0, 1), Fraction(1, 2)]\n"
          ]
        }
      ],
      "source": [
        "cf = contFrac(8192/2**14)\n",
        "cv = convergents(cf)\n",
        "print(cv)"
      ]
    },
    {
      "cell_type": "markdown",
      "metadata": {
        "id": "gdl2AI10VZjj"
      },
      "source": [
        "From 8192, we can not get the correct result. The reason is that $s=2$ and $r=4$ which are not relatively prime and as a result we get $s'=1$ and $r'=2$."
      ]
    },
    {
      "cell_type": "code",
      "execution_count": 9,
      "metadata": {
        "scrolled": true,
        "id": "_r_TOkSdVZjj",
        "colab": {
          "base_uri": "https://localhost:8080/"
        },
        "outputId": "161bb57b-0751-4173-fe1f-40695e8cca58"
      },
      "outputs": [
        {
          "output_type": "stream",
          "name": "stdout",
          "text": [
            "[Fraction(0, 1), Fraction(1, 1), Fraction(3, 4)]\n"
          ]
        }
      ],
      "source": [
        "cf = contFrac(12288/2**14)\n",
        "cv = convergents(cf)\n",
        "print(cv)"
      ]
    },
    {
      "cell_type": "markdown",
      "metadata": {
        "id": "F0_ZDQRPVZjk"
      },
      "source": [
        "The candidate is $s'=3$ and $r'=4$. We get the correct result."
      ]
    },
    {
      "cell_type": "markdown",
      "metadata": {
        "id": "umsNOO5YVZjk"
      },
      "source": [
        "<a id=\"task7\"></a>\n",
        "<h3>Task 7</h3>\n",
        "\n",
        "Repeat Task 5 and Task 6 with $x$=5 and $N=42$."
      ]
    },
    {
      "cell_type": "markdown",
      "metadata": {
        "id": "BUhtbW2VVZjk"
      },
      "source": [
        "<h3>Solution</h3>"
      ]
    },
    {
      "cell_type": "code",
      "execution_count": 10,
      "metadata": {
        "id": "mRp1JlvaVZjl"
      },
      "outputs": [],
      "source": [
        "%run operator.py"
      ]
    },
    {
      "cell_type": "code",
      "execution_count": 11,
      "metadata": {
        "id": "-oy7YxrxVZjl"
      },
      "outputs": [],
      "source": [
        "# %load qpe.py\n",
        "import cirq\n",
        "def qpe(t,control, target, circuit, CU):\n",
        "\n",
        "    #Apply Hadamard to control qubits\n",
        "    circuit.append(cirq.H.on_each(control))\n",
        "\n",
        "    #Apply CU gates\n",
        "    for i in range(t):\n",
        "        #Obtain the power of CU gate\n",
        "        CUi = CU**(2**i)\n",
        "        #Apply CUi gate where t-i-1 is the control\n",
        "        circuit.append(CUi(control[t-i-1],*target))\n",
        "\n",
        "    #Apply inverse QFT\n",
        "    iqft(t,control,circuit)\n"
      ]
    },
    {
      "cell_type": "code",
      "execution_count": 12,
      "metadata": {
        "id": "FUYFgkwcVZjl"
      },
      "outputs": [],
      "source": [
        "# %load iqft.py\n",
        "import cirq\n",
        "from cirq.circuits import InsertStrategy\n",
        "from cirq import H, SWAP, CZPowGate\n",
        "\n",
        "def iqft(n,qubits,circuit):\n",
        "\n",
        "    #Swap the qubits\n",
        "    for i in range(n//2):\n",
        "        circuit.append(SWAP(qubits[i],qubits[n-i-1]), strategy = InsertStrategy.NEW)\n",
        "\n",
        "    #For each qubit\n",
        "    for i in range(n-1,-1,-1):\n",
        "        #Apply CR_k gates where j is the control and i is the target\n",
        "        k=n-i #We start with k=n-i\n",
        "        for j in range(n-1,i,-1):\n",
        "            #Define and apply CR_k gate\n",
        "            crk = CZPowGate(exponent = -2/2**(k))\n",
        "            circuit.append(crk(qubits[j],qubits[i]),strategy = InsertStrategy.NEW)\n",
        "            k=k-1 #Decrement at each step\n",
        "\n",
        "        #Apply Hadamard to the qubit\n",
        "        circuit.append(H(qubits[i]),strategy = InsertStrategy.NEW)\n"
      ]
    },
    {
      "cell_type": "markdown",
      "metadata": {
        "id": "2TRFRZ9VVZjm"
      },
      "source": [
        "$t$ should be picked as $2L + 1 + \\big \\lceil \\log \\big( 2 + \\frac{1}{2\\epsilon} \\big) \\big \\rceil$. Let $\\epsilon=0.1$. First let's find $L$."
      ]
    },
    {
      "cell_type": "code",
      "execution_count": 13,
      "metadata": {
        "scrolled": true,
        "id": "w11mzJREVZjm",
        "colab": {
          "base_uri": "https://localhost:8080/"
        },
        "outputId": "dc50f859-e086-4cbc-b5b3-8dac72a25de3"
      },
      "outputs": [
        {
          "output_type": "stream",
          "name": "stdout",
          "text": [
            "6\n"
          ]
        }
      ],
      "source": [
        "import math\n",
        "L=math.ceil(math.log2(42))\n",
        "print(L)"
      ]
    },
    {
      "cell_type": "markdown",
      "metadata": {
        "id": "iuXSa0QkVZjn"
      },
      "source": [
        "$ L= \\big \\lceil  \\log N \\big \\rceil $ = $ L= \\big \\lceil  \\log 42 \\big \\rceil =6.$"
      ]
    },
    {
      "cell_type": "code",
      "execution_count": 14,
      "metadata": {
        "scrolled": true,
        "id": "8MTahcxoVZjn",
        "colab": {
          "base_uri": "https://localhost:8080/"
        },
        "outputId": "eaea5c99-7d98-4aa1-8f7d-a7faee852927"
      },
      "outputs": [
        {
          "output_type": "stream",
          "name": "stdout",
          "text": [
            "16\n"
          ]
        }
      ],
      "source": [
        "e = 0.1\n",
        "num_t = 2*L+1+math.ceil(math.log2(2+1/(2*e)))\n",
        "print(num_t)"
      ]
    },
    {
      "cell_type": "code",
      "execution_count": 46,
      "metadata": {
        "scrolled": true,
        "id": "ocTJeMhVVZjn",
        "colab": {
          "base_uri": "https://localhost:8080/"
        },
        "outputId": "9146e03a-e0b7-434e-b3a0-24e73255db31"
      },
      "outputs": [
        {
          "output_type": "stream",
          "name": "stdout",
          "text": [
            "Sample the circuit:\n",
            "Counter({32768: 185, 0: 175, 21845: 115, 10923: 113, 43691: 106, 54613: 103, 54614: 33, 21846: 30, 10922: 29, 43690: 28, 21844: 11, 10924: 8, 43692: 7, 54612: 6, 43689: 6, 54615: 4, 21847: 4, 54611: 3, 21848: 2, 43693: 2, 21839: 2, 54604: 2, 10926: 2, 21842: 2, 21843: 2, 54620: 1, 43686: 1, 43705: 1, 10929: 1, 10928: 1, 10919: 1, 10933: 1, 43688: 1, 43695: 1, 43684: 1, 10925: 1, 10932: 1, 10935: 1, 10962: 1, 43703: 1, 21841: 1, 10921: 1, 10920: 1, 54619: 1, 21852: 1})\n"
          ]
        }
      ],
      "source": [
        "import cirq\n",
        "import matplotlib\n",
        "\n",
        "#Create a circuit\n",
        "circuit = cirq.Circuit()\n",
        "\n",
        "#Assign the size of the registers\n",
        "t=num_t\n",
        "n=L\n",
        "\n",
        "#Create control and target qubits\n",
        "control = [cirq.LineQubit(i) for i in range(1,t+1) ]\n",
        "target = [cirq.LineQubit(i) for i in range(t+1,t+1+n) ]\n",
        "circuit.append(cirq.X(target[n-1]))\n",
        "\n",
        "#Create operator CU\n",
        "x=5\n",
        "N=42\n",
        "CU=Ux(x,N)\n",
        "\n",
        "#Call phase estimation circuit\n",
        "qpe(t,control, target, circuit, CU)\n",
        "\n",
        "#Measure the control register\n",
        "circuit.append(cirq.measure(*control, key='result'))\n",
        "\n",
        "#Sample the circuit\n",
        "s=cirq.Simulator()\n",
        "print('Sample the circuit:')\n",
        "samples=s.run(circuit, repetitions=1000)\n",
        "\n",
        "# Print a histogram of results\n",
        "results= samples.histogram(key='result')\n",
        "print(results)"
      ]
    },
    {
      "cell_type": "code",
      "execution_count": 51,
      "metadata": {
        "scrolled": true,
        "id": "3XRaZYsVVZjo",
        "colab": {
          "base_uri": "https://localhost:8080/",
          "height": 430
        },
        "outputId": "17313faa-5f27-41e6-daf0-37bee283a157"
      },
      "outputs": [
        {
          "output_type": "display_data",
          "data": {
            "text/plain": [
              "<Figure size 640x480 with 1 Axes>"
            ],
            "image/png": "[encoded data removed]"
          },
          "metadata": {}
        }
      ],
      "source": [
        "import matplotlib.pyplot as plt\n",
        "\n",
        "for key in results.keys():\n",
        "    results[key] /= 1000\n",
        "\n",
        "keys = list(results.keys())\n",
        "values = list(results.values())\n",
        "plt.bar(keys, values)\n",
        "# plt.ylim(0, 50)\n",
        "plt.show()\n"
      ]
    },
    {
      "cell_type": "markdown",
      "metadata": {
        "id": "A9efgN6WVZjo"
      },
      "source": [
        "The peaks occur at 0, 10923, 21845 32768, 43691, 54613."
      ]
    },
    {
      "cell_type": "markdown",
      "metadata": {
        "id": "i3bNzH9YVZjp"
      },
      "source": [
        "- From 0, we don't get any meaningful result.\n",
        "\n",
        "- Let's check $\\frac{10923}{2^{16}}$."
      ]
    },
    {
      "cell_type": "code",
      "execution_count": 28,
      "metadata": {
        "scrolled": true,
        "id": "2CgCPSHUVZjp",
        "colab": {
          "base_uri": "https://localhost:8080/"
        },
        "outputId": "b09992d7-b9e9-4ae3-932e-49e1fe57e9df"
      },
      "outputs": [
        {
          "output_type": "stream",
          "name": "stdout",
          "text": [
            "[Fraction(0, 1), Fraction(1, 5), Fraction(1, 6), Fraction(1, 6), Fraction(1, 6)]\n"
          ]
        }
      ],
      "source": [
        "cf = contFrac(10923/2**16)\n",
        "cv = convergents(cf)\n",
        "print(cv)"
      ]
    },
    {
      "cell_type": "markdown",
      "metadata": {
        "id": "kMNffWJMVZjp"
      },
      "source": [
        "The candidates are $s'=1$, $r'=5$ and $s''=1$, $r''=6$. Indeed the answer is 6."
      ]
    },
    {
      "cell_type": "code",
      "execution_count": null,
      "metadata": {
        "scrolled": true,
        "id": "PSTt_SpJVZjp"
      },
      "outputs": [],
      "source": [
        "cf = contFrac(21845/2**16)\n",
        "cv = convergents(cf)\n",
        "print(cv)"
      ]
    },
    {
      "cell_type": "markdown",
      "metadata": {
        "id": "FwsHq_Q3VZjq"
      },
      "source": [
        "From 21845, we can not get the correct result. The reason is that $s=2$ and $r=6$ which are not relatively prime and as a result we get $s'=1$ and $r'=3$."
      ]
    },
    {
      "cell_type": "code",
      "execution_count": null,
      "metadata": {
        "scrolled": true,
        "id": "ebFLhvkQVZjq"
      },
      "outputs": [],
      "source": [
        "cf = contFrac(32768/2**16)\n",
        "cv = convergents(cf)\n",
        "print(cv)"
      ]
    },
    {
      "cell_type": "markdown",
      "metadata": {
        "id": "rc9gwZOdVZjq"
      },
      "source": [
        "From 32768, we can not get the correct result. The reason is that $s=3$ and $r=6$ which are not relatively prime and as a result we get $s'=1$ and $r'=2$."
      ]
    },
    {
      "cell_type": "code",
      "execution_count": null,
      "metadata": {
        "scrolled": true,
        "id": "Wd3RrdZ5VZjq"
      },
      "outputs": [],
      "source": [
        "cf = contFrac(43691/2**16)\n",
        "cv = convergents(cf)\n",
        "print(cv)"
      ]
    },
    {
      "cell_type": "markdown",
      "metadata": {
        "id": "AdxMnN7xVZjq"
      },
      "source": [
        "From 43691, we can not get the correct result. The reason is that $s=4$ and $r=6$ which are not relatively prime and as a result we get $s'=2$ and $r'=3$."
      ]
    },
    {
      "cell_type": "code",
      "execution_count": null,
      "metadata": {
        "scrolled": true,
        "id": "S5oYY-w6VZjr"
      },
      "outputs": [],
      "source": [
        "cf = contFrac(54613/2**16)\n",
        "cv = convergents(cf)\n",
        "print(cv)"
      ]
    },
    {
      "cell_type": "markdown",
      "metadata": {
        "id": "ygY5ti-kVZjr"
      },
      "source": [
        "The candidates are $s'=4$, $r'=5$ and $s''=5$, $r''=6$."
      ]
    }
  ],
  "metadata": {
    "kernelspec": {
      "display_name": "Python 3",
      "language": "python",
      "name": "python3"
    },
    "language_info": {
      "codemirror_mode": {
        "name": "ipython",
        "version": 3
      },
      "file_extension": ".py",
      "mimetype": "text/x-python",
      "name": "python",
      "nbconvert_exporter": "python",
      "pygments_lexer": "ipython3",
      "version": "3.7.3"
    },
    "colab": {
      "provenance": [],
      "include_colab_link": true
    }
  },
  "nbformat": 4,
  "nbformat_minor": 0
}